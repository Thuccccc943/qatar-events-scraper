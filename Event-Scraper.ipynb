{
 "cells": [
  {
   "cell_type": "markdown",
   "id": "0267fc7c-aad3-4966-8d51-e8f7bf95867b",
   "metadata": {},
   "source": [
    "# Requirements"
   ]
  },
  {
   "cell_type": "code",
   "execution_count": null,
   "id": "cb9ee264-1d23-410e-9d31-92fcfdad800f",
   "metadata": {},
   "outputs": [],
   "source": [
    "!pip install -r requirements.txt"
   ]
  },
  {
   "cell_type": "markdown",
   "id": "a430a7dd",
   "metadata": {},
   "source": [
    "# Imports"
   ]
  },
  {
   "cell_type": "code",
   "execution_count": null,
   "id": "d8bada23",
   "metadata": {},
   "outputs": [],
   "source": [
    "from scrapers.iloveqatar import ILoveQatarScraper\n",
    "from scrapers.visitqatar import VisitQatarScraper\n",
    "from models import Event\n",
    "from typing import List\n",
    "import pandas as pd\n",
    "from datetime import datetime\n",
    "import matplotlib.pyplot as plt"
   ]
  },
  {
   "cell_type": "markdown",
   "id": "466ec41c-4675-4827-adef-9707466c8888",
   "metadata": {},
   "source": [
    "# Initaliaze scrapers and functions"
   ]
  },
  {
   "cell_type": "code",
   "execution_count": null,
   "id": "763b66c3-700c-4a0b-bb57-b600595bb393",
   "metadata": {},
   "outputs": [],
   "source": [
    "# Initialize scrapers\n",
    "scrapers = [\n",
    "    ILoveQatarScraper(),\n",
    "    VisitQatarScraper()\n",
    "]"
   ]
  },
  {
   "cell_type": "code",
   "execution_count": null,
   "id": "5816a3b5-85e7-44ff-9fa4-7a36838c4522",
   "metadata": {},
   "outputs": [],
   "source": [
    "def run_scrapers(scrapers: list) -> List[Event]:\n",
    "    all_events = []\n",
    "    for scraper in scrapers:\n",
    "        try:\n",
    "            print(f\"\\n{'='*50}\")\n",
    "            print(f\"Running {scraper.source_name} scraper...\")\n",
    "            events = scraper.scrape_events()\n",
    "            all_events.extend(events)\n",
    "            print(f\"Found {len(events)} events from {scraper.source_name}\")\n",
    "            \n",
    "            # Save individual scraper results\n",
    "            scraper.save_to_csv(events)\n",
    "        except Exception as e:\n",
    "            print(f\"Error with {scraper.source_name} scraper: {e}\")\n",
    "    \n",
    "    return all_events"
   ]
  },
  {
   "cell_type": "markdown",
   "id": "7c901154-4d96-4aac-ac8f-34f942707920",
   "metadata": {},
   "source": [
    "# Run "
   ]
  },
  {
   "cell_type": "code",
   "execution_count": null,
   "id": "f0cbd3f0-c599-4644-b65f-d5bbf8977d15",
   "metadata": {},
   "outputs": [],
   "source": [
    "all_events = run_scrapers(scrapers)"
   ]
  },
  {
   "cell_type": "code",
   "execution_count": null,
   "id": "8d310686-d2bc-4d4f-bc91-78d78bcc1b72",
   "metadata": {},
   "outputs": [],
   "source": [
    "events_df = pd.DataFrame([event.to_dict() for event in all_events])\n",
    "events_df.head()"
   ]
  },
  {
   "cell_type": "markdown",
   "id": "f67cee9b-76d2-4317-8ab2-21078c83fd0f",
   "metadata": {},
   "source": [
    "# Statistics"
   ]
  },
  {
   "cell_type": "code",
   "execution_count": null,
   "id": "774aeec7-1ff7-43f5-9f9b-60b98ae2ea49",
   "metadata": {},
   "outputs": [],
   "source": [
    "print(\"\\nEvent Statistics:\")\n",
    "print(f\"Total events: {len(all_events)}\")\n",
    "# By source\n",
    "source_counts = events_df['source'].value_counts()\n",
    "print(\"\\nBy source:\")\n",
    "print(source_counts)\n",
    "# By category (if available)\n",
    "if 'category' in events_df.columns:\n",
    "    category_counts = events_df['category'].value_counts()\n",
    "    print(\"\\nBy category:\")\n",
    "    print(category_counts)"
   ]
  },
  {
   "cell_type": "code",
   "execution_count": null,
   "id": "d1dd224a-599c-4110-847e-acaa5901fc6a",
   "metadata": {},
   "outputs": [],
   "source": [
    "plt.figure(figsize=(10, 5))\n",
    "source_counts.plot(kind='bar', color=['skyblue', 'lightgreen'])\n",
    "plt.title('Number of Events by Source')\n",
    "plt.xlabel('Source')\n",
    "plt.ylabel('Count')\n",
    "plt.xticks(rotation=0)\n",
    "plt.show()"
   ]
  },
  {
   "cell_type": "code",
   "execution_count": null,
   "id": "76563914-acb8-41ee-90dc-1ca722dd0345",
   "metadata": {},
   "outputs": [],
   "source": [
    "if 'category' in events_df.columns:\n",
    "    plt.figure(figsize=(12, 6))\n",
    "    category_counts.plot(kind='bar', color='lightcoral')\n",
    "    plt.title('Number of Events by Category')\n",
    "    plt.xlabel('Category')\n",
    "    plt.ylabel('Count')\n",
    "    plt.xticks(rotation=45, ha='right')\n",
    "    plt.tight_layout()\n",
    "    plt.show()"
   ]
  },
  {
   "cell_type": "markdown",
   "id": "8b2682f6-6b46-488b-9970-685adc0d3d13",
   "metadata": {},
   "source": [
    "# Save results"
   ]
  },
  {
   "cell_type": "code",
   "execution_count": null,
   "id": "f6e4b324-9a70-4e55-afc4-c841e98c413a",
   "metadata": {},
   "outputs": [],
   "source": [
    "timestamp = datetime.now().strftime(\"%Y%m%d_%H%M%S\")\n",
    "filename = f\"combined_events_{timestamp}.csv\"\n",
    "events_df.to_csv(filename, index=False)\n",
    "print(f\"\\nSaved {len(all_events)} events to {filename}\")"
   ]
  },
  {
   "cell_type": "markdown",
   "id": "41b78a78-2161-4ea2-ad7d-dcd00bf5dabb",
   "metadata": {},
   "source": [
    "# Raw inspection"
   ]
  },
  {
   "cell_type": "code",
   "execution_count": null,
   "id": "335fcf62-55f2-4c13-bb6d-739c4b5813dc",
   "metadata": {},
   "outputs": [],
   "source": [
    "print(\"\\nSample Event Details:\")\n",
    "for idx, event in enumerate(all_events[:3], 1):  # Show first 3 events\n",
    "    print(f\"\\nEvent {idx}:\")\n",
    "    print(f\"Title: {event.title}\")\n",
    "    print(f\"Date: {event.start_date} to {event.end_date}\")\n",
    "    print(f\"Time: {event.time}\")\n",
    "    print(f\"Location: {event.location}\")\n",
    "    print(f\"Source: {event.source}\")"
   ]
  }
 ],
 "metadata": {
  "kernelspec": {
   "display_name": "events-scraper",
   "language": "python",
   "name": "events-scraper"
  },
  "language_info": {
   "codemirror_mode": {
    "name": "ipython",
    "version": 3
   },
   "file_extension": ".py",
   "mimetype": "text/x-python",
   "name": "python",
   "nbconvert_exporter": "python",
   "pygments_lexer": "ipython3",
   "version": "3.13.3"
  }
 },
 "nbformat": 4,
 "nbformat_minor": 5
}
